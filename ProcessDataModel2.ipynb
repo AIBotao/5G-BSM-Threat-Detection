{
 "cells": [
  {
   "cell_type": "code",
   "execution_count": null,
   "id": "57882a1d",
   "metadata": {},
   "outputs": [],
   "source": [
    "import pandas as pd\n",
    "from matplotlib import pyplot as plt\n",
    "import glob\n",
    "import os\n",
    "import numpy as np\n",
    "import pandas as pd\n",
    "pd.options.mode.chained_assignment = None  # default='warn'\n",
    "from scipy.spatial import distance"
   ]
  },
  {
   "cell_type": "markdown",
   "id": "f3a2fd00",
   "metadata": {},
   "source": [
    "# Loads each whole scenario as a sheet"
   ]
  },
  {
   "cell_type": "code",
   "execution_count": null,
   "id": "8cdf5902",
   "metadata": {},
   "outputs": [],
   "source": [
    "start_folder = 'AllCSVs'\n",
    "csvs_scen = glob.glob(r'{}\\*.csv'.format(start_folder))\n",
    "df_scen = []\n",
    "\n",
    "for c in csvs_scen:\n",
    "    df = pd.read_csv(c).drop(['type','messageID','spd_noise0','spd_noise1','spd_noise2' ,'pos_noise0' ,'pos_noise1' ,'pos_noise2', 'spd2', 'pos2'], axis=1)\n",
    "    df_scen.append(df)\n",
    "print(len(df_scen))\n",
    "df_scen[0]"
   ]
  },
  {
   "cell_type": "code",
   "execution_count": null,
   "id": "afb1a204",
   "metadata": {},
   "outputs": [],
   "source": [
    "# Define a function to find the two closest rows above a given row based on A and B values\n",
    "def find_closest_rows_above(df, row):\n",
    "    # select a row to find closest rows to\n",
    "    given_row = row\n",
    "\n",
    "    # Find the index of the given row\n",
    "    row_index = df.index.get_loc(given_row.name)\n",
    "\n",
    "    # Slice the DataFrame to only consider rows above the given row\n",
    "    above_df = df.iloc[max(0, row_index-2000):row_index]\n",
    "\n",
    "    if len(above_df) == 0:\n",
    "        return pd.DataFrame()\n",
    "\n",
    "    # select the A and B columns of the DataFrame\n",
    "    df_ab = above_df[['time', 'pos0', 'pos1']]\n",
    "\n",
    "    # calculate the Euclidean distance between the given row and all other rows based on A and B values\n",
    "    distances = distance.cdist(df_ab, [given_row[['time', 'pos0', 'pos1']]], metric='euclidean')\n",
    "\n",
    "    # get the indices of rows sorted by distance\n",
    "    sorted_indices = distances.argsort(axis=0).flatten()\n",
    "\n",
    "    # get the closest rows as a DataFrame\n",
    "    closest_rows = df.iloc[sorted_indices]\n",
    "    \n",
    "    # Create a Boolean mask to select the rows that contain the value. Ensures that senders are not the same\n",
    "    mask = closest_rows['sender'] == search_row.sender\n",
    "\n",
    "    # Drop the rows that match the mask\n",
    "    closest_rows.drop(closest_rows[mask].index, inplace=True)\n",
    "\n",
    "    return closest_rows"
   ]
  },
  {
   "cell_type": "code",
   "execution_count": null,
   "id": "517b6a6a",
   "metadata": {
    "scrolled": true
   },
   "outputs": [],
   "source": [
    "df_closest = []\n",
    "p = 0\n",
    "for df in df_scen:\n",
    "    df_copy = df.copy()\n",
    "    for i in range(2, len(df_copy)): #len(df)\n",
    "#         print(i)\n",
    "#         display(search_row)\n",
    "        search_row = df_copy.iloc[i] \n",
    "        closest_rows = find_closest_rows_above(df.copy(), search_row).reset_index()\n",
    "        closest_car_nums = [0,1]\n",
    "        feats = ['pos0','pos1','spd0','spd1']\n",
    "#         display(closest_rows)\n",
    "        for num in closest_car_nums:\n",
    "            for f in feats:\n",
    "                df_copy.loc[i, f'{f}Close{num}'] = closest_rows.loc[num, f]\n",
    "    \n",
    "    df_copy.to_csv(r'C:\\Users\\aidan\\Desktop\\5G-BSM-Threat-Detection\\ClosestCarCSVsModel2\\scenario_{}.csv'.format(p))  \n",
    "    df_closest.append(df_copy)\n",
    "    p+=1"
   ]
  },
  {
   "cell_type": "code",
   "execution_count": null,
   "id": "7f40ab12",
   "metadata": {},
   "outputs": [],
   "source": [
    "display(df_closest[1])"
   ]
  },
  {
   "cell_type": "code",
   "execution_count": null,
   "id": "b59ff982",
   "metadata": {},
   "outputs": [],
   "source": [
    "# Next Step **Chop out the first 2 rows of the df**\n",
    "start_folder = 'AllCSVs'\n",
    "csvs = glob.glob(r'{}\\*.csv'.format(start_folder))\n",
    "df_list = []\n",
    "\n",
    "for c in csvs:\n",
    "    df = pd.read_csv(c)\n",
    "    for i in np.unique(df.sender):\n",
    "        df_list.append(df[df.sender.isin([i])].copy())\n",
    "    #     df[df.ID.isin([subs[0]])&df.Vigil.isin(vigils[0])].copy()\n",
    "print(len(df_list))\n",
    "# df_list[0]"
   ]
  },
  {
   "cell_type": "markdown",
   "id": "549d8ca6",
   "metadata": {},
   "source": [
    "# ------------------------------------------Template Code-----------------------------------------"
   ]
  },
  {
   "cell_type": "code",
   "execution_count": null,
   "id": "b8ed12ba",
   "metadata": {},
   "outputs": [],
   "source": [
    "import pandas as pd\n",
    "from scipy.spatial import distance\n",
    "\n",
    "# create a sample DataFrame\n",
    "df = pd.DataFrame({\n",
    "    'A': [1, 2, 3, 4, 4,6,7,8,9],\n",
    "    'B': [2, 4, 6, 8, 7,3,7,3,8],\n",
    "    'C': [3, 6, 9, 12, 3,2,9,6,4]\n",
    "})\n",
    "\n",
    "# select a row to find closest rows to\n",
    "given_row = df.iloc[4]\n",
    "\n",
    "# Find the index of the given row\n",
    "row_index = df.index.get_loc(given_row.name)\n",
    "\n",
    "# Slice the DataFrame to only consider rows above the given row\n",
    "above_df = df.iloc[:row_index]\n",
    "\n",
    "# if len(above_df) == 0:\n",
    "#     return pd.DataFrame()\n",
    "\n",
    "\n",
    "# select the A and B columns of the DataFrame\n",
    "df_ab = above_df[['A', 'B']]\n",
    "\n",
    "# calculate the Euclidean distance between the given row and all other rows based on A and B values\n",
    "distances = distance.cdist(df_ab, [given_row[['A', 'B']]], metric='euclidean')\n",
    "\n",
    "# get the indices of rows sorted by distance\n",
    "sorted_indices = distances.argsort(axis=0).flatten()\n",
    "\n",
    "# select the two closest rows (excluding the given row itself)\n",
    "closest_indices = sorted_indices[0:3]\n",
    "\n",
    "# get the closest rows as a DataFrame\n",
    "closest_rows = df.iloc[closest_indices]\n",
    "\n",
    "print(closest_rows)"
   ]
  },
  {
   "cell_type": "code",
   "execution_count": null,
   "id": "204bbfda",
   "metadata": {},
   "outputs": [],
   "source": [
    "import pandas as pd\n",
    "from scipy.spatial.distance import cdist\n",
    "\n",
    "# Generate a sample DataFrame\n",
    "df = pd.DataFrame({'A': [1, 1, 1, 4, 1],\n",
    "                   'B': [6, 2, 2, 9, 2],\n",
    "                   'C': [11, 3, 3, 14, 3]})\n",
    "\n",
    "# Define a function to find the two closest rows above a given row based on A and B values\n",
    "def find_closest_rows_above(df, row):\n",
    "    # Find the index of the given row\n",
    "    row_index = df.index.get_loc(row.name)\n",
    "    \n",
    "    # Slice the DataFrame to only consider rows above the given row\n",
    "    above_df = df.iloc[:row_index]\n",
    "    \n",
    "    if len(above_df) == 0:\n",
    "        return pd.DataFrame()\n",
    "    \n",
    "    # Compute the distances between the given row and all rows above it in the DataFrame based on A and B values\n",
    "    distances = cdist(above_df[['A', 'B']].values, row[['A', 'B']].values.reshape(1, -1))\n",
    "    \n",
    "    # Sort the distances in ascending order and retrieve the index of the closest row\n",
    "    closest_index = distances.argmin(axis=0)[0]\n",
    "    \n",
    "    # Use the index to retrieve the closest row from the DataFrame\n",
    "    closest_row = above_df.iloc[closest_index]\n",
    "    \n",
    "    # Find the index of the second closest row\n",
    "    second_closest_index = (distances != distances[closest_index]).argmax(axis=0)[0]\n",
    "    \n",
    "    # Use the index to retrieve the second closest row from the DataFrame\n",
    "    second_closest_row = above_df.iloc[second_closest_index]\n",
    "    \n",
    "    return pd.concat([closest_row, second_closest_row], axis=1).T\n",
    "\n",
    "# Define a sample row to search for\n",
    "search_row = df.iloc[2] \n",
    "# For i in range(0, len(df)): \n",
    "#     search_row = df.iloc[i]\n",
    "# Append the closest_rows to a new dataframe and then glue the 2 dataframes together at the end\n",
    "\n",
    "\n",
    "\n",
    "\n",
    "# Find the two closest rows above the search row based on A and B values\n",
    "closest_rows = find_closest_rows_above(df, search_row)\n",
    "\n",
    "print(closest_rows)"
   ]
  },
  {
   "cell_type": "code",
   "execution_count": null,
   "id": "1a54e202",
   "metadata": {},
   "outputs": [],
   "source": [
    "df"
   ]
  },
  {
   "cell_type": "code",
   "execution_count": null,
   "id": "dab254b9",
   "metadata": {},
   "outputs": [],
   "source": [
    "import pandas as pd\n",
    "\n",
    "# create a DataFrame\n",
    "df = pd.DataFrame({'pos1': [25, 30, 35],\n",
    "                   'pos2': [25, 30, 35],\n",
    "                   'pos3': [25, 30, 35]})\n",
    "\n",
    "# create a new DataFrame with the new columns\n",
    "closest_rows = pd.DataFrame({'pos1DIFF': [50000, 60000, 70000],\n",
    "                         'pos2DIFF': [1, 2, 3]})\n",
    "\n",
    "# concatenate the new DataFrame to the existing one\n",
    "result = pd.concat([df, closest_rows], axis=1)\n",
    "\n",
    "print(result)"
   ]
  },
  {
   "cell_type": "code",
   "execution_count": null,
   "id": "fe55cf1a",
   "metadata": {},
   "outputs": [],
   "source": [
    "X = []\n",
    "y = []\n",
    "for i in df_normal:\n",
    "    X.append(np.asarray(df_normal[0].iloc[0:10,2:]))\n",
    "    y.append(np.asarray(df_normal[0].iloc[10,2:]))\n",
    "X = np.asarray(X)\n",
    "y = np.asarray(y)\n",
    "np.save(r'C:\\Users\\aidan\\Desktop\\School\\5G_Networks\\Final_Project\\{}\\X.npy'.format(start_folder), X)\n",
    "np.save(r'C:\\Users\\aidan\\Desktop\\School\\5G_Networks\\Final_Project\\{}\\y.npy'.format(start_folder), y)"
   ]
  }
 ],
 "metadata": {
  "kernelspec": {
   "display_name": "Python 3 (ipykernel)",
   "language": "python",
   "name": "python3"
  },
  "language_info": {
   "codemirror_mode": {
    "name": "ipython",
    "version": 3
   },
   "file_extension": ".py",
   "mimetype": "text/x-python",
   "name": "python",
   "nbconvert_exporter": "python",
   "pygments_lexer": "ipython3",
   "version": "3.9.13"
  }
 },
 "nbformat": 4,
 "nbformat_minor": 5
}
